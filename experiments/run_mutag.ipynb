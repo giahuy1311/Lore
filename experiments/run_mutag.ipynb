{
 "cells": [
  {
   "cell_type": "code",
   "execution_count": 1,
   "metadata": {},
   "outputs": [],
   "source": [
    "from torch_geometric.datasets import TUDataset\n",
    "from torch_geometric.data import DataLoader"
   ]
  },
  {
   "cell_type": "code",
   "execution_count": 2,
   "metadata": {},
   "outputs": [
    {
     "data": {
      "text/plain": [
       "Data(edge_index=[2, 50], x=[24, 7], edge_attr=[50, 4], y=[1])"
      ]
     },
     "execution_count": 2,
     "metadata": {},
     "output_type": "execute_result"
    }
   ],
   "source": [
    "dataset = TUDataset(root=\"TUDataset\", name=\"MUTAG\")\n",
    "dataset[31]"
   ]
  },
  {
   "cell_type": "code",
   "execution_count": 3,
   "metadata": {},
   "outputs": [],
   "source": [
    "data = dataset[0]"
   ]
  },
  {
   "cell_type": "code",
   "execution_count": 4,
   "metadata": {},
   "outputs": [
    {
     "name": "stdout",
     "output_type": "stream",
     "text": [
      "{0: 'C', 1: 'C', 2: 'C', 3: 'C', 4: 'C', 5: 'C', 6: 'C', 7: 'C', 8: 'C', 9: 'C', 10: 'C', 11: 'C', 12: 'C', 13: 'C', 14: 'N', 15: 'O', 16: 'O'}\n"
     ]
    }
   ],
   "source": [
    "atom_types = [\"C\", \"N\", \"O\", \"F\", \"I\", \"Cl\", \"Br\"]\n",
    "\n",
    "node_labels = {i: atom_types[x.argmax().item()] for i, x in enumerate(data.x)}\n",
    "print(node_labels) "
   ]
  },
  {
   "cell_type": "code",
   "execution_count": 5,
   "metadata": {},
   "outputs": [
    {
     "data": {
      "image/png": "[encoded data removed]",
      "text/plain": [
       "<Figure size 640x480 with 1 Axes>"
      ]
     },
     "metadata": {},
     "output_type": "display_data"
    }
   ],
   "source": [
    "import networkx as nx\n",
    "from torch_geometric.utils import to_networkx\n",
    "from matplotlib import pyplot as plt\n",
    "\n",
    "G = to_networkx(data, to_undirected=True)\n",
    "\n",
    "pos = nx.spring_layout(G) \n",
    "nx.draw(G, pos, with_labels=True, labels=node_labels, node_color=\"lightblue\", edge_color=\"gray\", node_size=800, font_size=10, font_weight=\"bold\")\n",
    "plt.show()"
   ]
  },
  {
   "cell_type": "code",
   "execution_count": 6,
   "metadata": {},
   "outputs": [],
   "source": [
    "import sys\n",
    "import os\n",
    "\n",
    "# Lấy đường dẫn thư mục gốc (project_root)\n",
    "project_root = os.path.abspath(os.path.join(os.path.dirname('model'), \"..\"))\n",
    "sys.path.append(project_root)"
   ]
  },
  {
   "cell_type": "code",
   "execution_count": 7,
   "metadata": {},
   "outputs": [
    {
     "name": "stderr",
     "output_type": "stream",
     "text": [
      "/Users/admin/Documents/Screenshots/LORE/.env/lib/python3.12/site-packages/torch_geometric/deprecation.py:26: UserWarning: 'data.DataLoader' is deprecated, use 'loader.DataLoader' instead\n",
      "  warnings.warn(out)\n"
     ]
    }
   ],
   "source": [
    "import torch\n",
    "from torch_geometric.data import DataLoader\n",
    "from model.gin import GIN, get_mean_node_embeddings_df\n",
    "\n",
    "test_loader = DataLoader(dataset, batch_size=32, shuffle=False)\n",
    "\n",
    "device = \"cuda\" if torch.cuda.is_available() else \"cpu\"\n",
    "model = GIN(\n",
    "        in_channels=dataset.num_features,\n",
    "        hidden_channels=32,\n",
    "        out_channels=dataset.num_classes,\n",
    "        num_layers=5,\n",
    "    ).to(device)\n",
    "\n",
    "optimizer = torch.optim.Adam(model.parameters(), lr=0.01)\n",
    "\n",
    "#     # blackbox\n",
    "# df = get_mean_node_embeddings_df(model,  device, test_loader)"
   ]
  },
  {
   "cell_type": "code",
   "execution_count": 8,
   "metadata": {},
   "outputs": [
    {
     "name": "stderr",
     "output_type": "stream",
     "text": [
      "/Users/admin/Documents/Screenshots/LORE/.env/lib/python3.12/site-packages/torch_geometric/deprecation.py:26: UserWarning: 'data.DataLoader' is deprecated, use 'loader.DataLoader' instead\n",
      "  warnings.warn(out)\n"
     ]
    }
   ],
   "source": [
    "from sklearn.model_selection import train_test_split\n",
    "\n",
    "torch.manual_seed(42)  # Đảm bảo kết quả tái lập\n",
    "indices = torch.randperm(len(dataset)).tolist()\n",
    "train_size = int(0.8 * len(dataset))\n",
    "val_size = int(0.1 * len(dataset))\n",
    "test_size = len(dataset) - train_size - val_size\n",
    "\n",
    "train_idx, temp_idx = train_test_split(indices, train_size=train_size, random_state=42)\n",
    "val_idx, test_idx = train_test_split(temp_idx, test_size=test_size, random_state=42)\n",
    "\n",
    "train_dataset = dataset[train_idx]\n",
    "val_dataset = dataset[val_idx]\n",
    "test_dataset = dataset[test_idx]\n",
    "\n",
    "train_loader = DataLoader(train_dataset, batch_size=32, shuffle=True)\n",
    "val_loader = DataLoader(val_dataset, batch_size=32, shuffle=False)\n",
    "test_loader = DataLoader(test_dataset, batch_size=32, shuffle=False)\n"
   ]
  },
  {
   "cell_type": "code",
   "execution_count": 9,
   "metadata": {},
   "outputs": [],
   "source": [
    "import torch.nn.functional as F\n",
    "from torch_geometric.loader import DataLoader\n",
    "from torch_geometric.nn import GINConv, global_add_pool\n",
    "\n",
    "def train():\n",
    "    model.train()\n",
    "    total_loss = 0\n",
    "    for data in train_loader:\n",
    "        data = data.to(device)\n",
    "        optimizer.zero_grad()\n",
    "        out = model(data.x, data.edge_index, data.batch, data.batch_size)\n",
    "        loss = F.cross_entropy(out, data.y)\n",
    "        loss.backward()\n",
    "        optimizer.step()\n",
    "        total_loss += float(loss) * data.num_graphs\n",
    "    return total_loss / len(train_loader.dataset)\n",
    "\n",
    "@torch.no_grad()\n",
    "def test(loader):\n",
    "    model.eval()\n",
    "    total_correct = 0\n",
    "    for data in loader:\n",
    "        data = data.to(device)\n",
    "        out = model(data.x, data.edge_index, data.batch, data.batch_size)\n",
    "        pred = out.argmax(dim=-1)\n",
    "        total_correct += int((pred == data.y).sum())\n",
    "    return total_correct / len(loader.dataset)"
   ]
  },
  {
   "cell_type": "code",
   "execution_count": 10,
   "metadata": {},
   "outputs": [
    {
     "name": "stdout",
     "output_type": "stream",
     "text": [
      "Epoch: 001, Loss: 0.5643, Train: 0.6800, Test: 0.6500\n",
      "Epoch: 002, Loss: 0.4946, Train: 0.6800, Test: 0.6500\n",
      "Epoch: 003, Loss: 0.4652, Train: 0.6867, Test: 0.6500\n",
      "Epoch: 004, Loss: 0.3920, Train: 0.7133, Test: 0.7000\n",
      "Epoch: 005, Loss: 0.3756, Train: 0.7200, Test: 0.8000\n",
      "Epoch: 006, Loss: 0.3694, Train: 0.7733, Test: 0.8500\n",
      "Epoch: 007, Loss: 0.3612, Train: 0.7800, Test: 0.8500\n",
      "Epoch: 008, Loss: 0.3793, Train: 0.7867, Test: 0.8500\n",
      "Epoch: 009, Loss: 0.3511, Train: 0.8000, Test: 0.8500\n",
      "Epoch: 010, Loss: 0.3445, Train: 0.8067, Test: 0.8500\n",
      "Epoch: 011, Loss: 0.3189, Train: 0.8000, Test: 0.7500\n",
      "Epoch: 012, Loss: 0.3754, Train: 0.8067, Test: 0.8500\n",
      "Epoch: 013, Loss: 0.3278, Train: 0.8467, Test: 0.7500\n",
      "Epoch: 014, Loss: 0.3487, Train: 0.8600, Test: 0.7500\n",
      "Epoch: 015, Loss: 0.3429, Train: 0.7533, Test: 0.6000\n",
      "Epoch: 016, Loss: 0.3520, Train: 0.5600, Test: 0.5000\n",
      "Epoch: 017, Loss: 0.3436, Train: 0.8867, Test: 0.7500\n",
      "Epoch: 018, Loss: 0.3696, Train: 0.8600, Test: 0.8000\n",
      "Epoch: 019, Loss: 0.3922, Train: 0.7733, Test: 0.8500\n",
      "Epoch: 020, Loss: 0.3253, Train: 0.6933, Test: 0.7000\n",
      "Epoch: 021, Loss: 0.3125, Train: 0.7333, Test: 0.8500\n",
      "Epoch: 022, Loss: 0.4240, Train: 0.8133, Test: 0.9000\n",
      "Epoch: 023, Loss: 0.3406, Train: 0.8267, Test: 0.8000\n",
      "Epoch: 024, Loss: 0.3531, Train: 0.8600, Test: 0.8000\n",
      "Epoch: 025, Loss: 0.3013, Train: 0.8000, Test: 0.8000\n",
      "Epoch: 026, Loss: 0.3091, Train: 0.8067, Test: 0.8000\n",
      "Epoch: 027, Loss: 0.2850, Train: 0.8133, Test: 0.7500\n",
      "Epoch: 028, Loss: 0.3516, Train: 0.7800, Test: 0.8000\n",
      "Epoch: 029, Loss: 0.3564, Train: 0.7933, Test: 0.8000\n",
      "Epoch: 030, Loss: 0.3002, Train: 0.7800, Test: 0.8000\n",
      "Epoch: 031, Loss: 0.3114, Train: 0.8333, Test: 0.8000\n",
      "Epoch: 032, Loss: 0.3050, Train: 0.8800, Test: 0.7000\n",
      "Epoch: 033, Loss: 0.2877, Train: 0.8333, Test: 0.8000\n",
      "Epoch: 034, Loss: 0.3109, Train: 0.8133, Test: 0.8500\n",
      "Epoch: 035, Loss: 0.3025, Train: 0.7867, Test: 0.8500\n",
      "Epoch: 036, Loss: 0.2789, Train: 0.8933, Test: 0.8000\n",
      "Epoch: 037, Loss: 0.2890, Train: 0.8800, Test: 0.7500\n",
      "Epoch: 038, Loss: 0.2888, Train: 0.8800, Test: 0.7500\n",
      "Epoch: 039, Loss: 0.2529, Train: 0.8667, Test: 0.7500\n",
      "Epoch: 040, Loss: 0.2632, Train: 0.8800, Test: 0.7500\n",
      "Epoch: 041, Loss: 0.3522, Train: 0.8133, Test: 0.7500\n",
      "Epoch: 042, Loss: 0.5136, Train: 0.3067, Test: 0.2500\n",
      "Epoch: 043, Loss: 0.4719, Train: 0.7467, Test: 0.8000\n",
      "Epoch: 044, Loss: 0.3259, Train: 0.7067, Test: 0.7500\n",
      "Epoch: 045, Loss: 0.3541, Train: 0.7200, Test: 0.8000\n",
      "Epoch: 046, Loss: 0.3362, Train: 0.7867, Test: 0.8500\n",
      "Epoch: 047, Loss: 0.3312, Train: 0.7933, Test: 0.8500\n",
      "Epoch: 048, Loss: 0.3445, Train: 0.8333, Test: 0.8000\n",
      "Epoch: 049, Loss: 0.3623, Train: 0.8333, Test: 0.7500\n",
      "Epoch: 050, Loss: 0.3348, Train: 0.7733, Test: 0.7500\n",
      "Epoch: 051, Loss: 0.3680, Train: 0.8000, Test: 0.7500\n",
      "Epoch: 052, Loss: 0.3463, Train: 0.8600, Test: 0.7000\n",
      "Epoch: 053, Loss: 0.3256, Train: 0.8533, Test: 0.7000\n",
      "Epoch: 054, Loss: 0.3007, Train: 0.8400, Test: 0.7500\n",
      "Epoch: 055, Loss: 0.3298, Train: 0.8467, Test: 0.7000\n",
      "Epoch: 056, Loss: 0.3120, Train: 0.8667, Test: 0.7500\n",
      "Epoch: 057, Loss: 0.3087, Train: 0.8600, Test: 0.6000\n",
      "Epoch: 058, Loss: 0.2873, Train: 0.8467, Test: 0.6000\n",
      "Epoch: 059, Loss: 0.2933, Train: 0.8733, Test: 0.7500\n",
      "Epoch: 060, Loss: 0.2438, Train: 0.7933, Test: 0.7500\n",
      "Epoch: 061, Loss: 0.2848, Train: 0.8667, Test: 0.7500\n",
      "Epoch: 062, Loss: 0.2701, Train: 0.8533, Test: 0.7500\n",
      "Epoch: 063, Loss: 0.2363, Train: 0.8867, Test: 0.7500\n",
      "Epoch: 064, Loss: 0.2460, Train: 0.9000, Test: 0.7500\n",
      "Epoch: 065, Loss: 0.2233, Train: 0.8667, Test: 0.6500\n",
      "Epoch: 066, Loss: 0.2483, Train: 0.9067, Test: 0.7000\n",
      "Epoch: 067, Loss: 0.2460, Train: 0.9067, Test: 0.7000\n",
      "Epoch: 068, Loss: 0.2401, Train: 0.9133, Test: 0.7500\n",
      "Epoch: 069, Loss: 0.2135, Train: 0.9133, Test: 0.7000\n",
      "Epoch: 070, Loss: 0.1933, Train: 0.9000, Test: 0.7500\n",
      "Epoch: 071, Loss: 0.2655, Train: 0.9067, Test: 0.6000\n",
      "Epoch: 072, Loss: 0.2018, Train: 0.9133, Test: 0.6500\n",
      "Epoch: 073, Loss: 0.2594, Train: 0.8533, Test: 0.7500\n",
      "Epoch: 074, Loss: 0.2017, Train: 0.8333, Test: 0.7000\n",
      "Epoch: 075, Loss: 0.1884, Train: 0.8667, Test: 0.7500\n",
      "Epoch: 076, Loss: 0.1991, Train: 0.9200, Test: 0.7000\n",
      "Epoch: 077, Loss: 0.2336, Train: 0.9000, Test: 0.7000\n",
      "Epoch: 078, Loss: 0.2244, Train: 0.8800, Test: 0.7000\n",
      "Epoch: 079, Loss: 0.2144, Train: 0.9200, Test: 0.7000\n",
      "Epoch: 080, Loss: 0.1912, Train: 0.9200, Test: 0.7500\n",
      "Epoch: 081, Loss: 0.2210, Train: 0.8933, Test: 0.7000\n",
      "Epoch: 082, Loss: 0.3015, Train: 0.3267, Test: 0.3500\n",
      "Epoch: 083, Loss: 0.3835, Train: 0.8400, Test: 0.7500\n",
      "Epoch: 084, Loss: 0.2968, Train: 0.8200, Test: 0.7500\n",
      "Epoch: 085, Loss: 0.2775, Train: 0.8400, Test: 0.8000\n",
      "Epoch: 086, Loss: 0.2485, Train: 0.8800, Test: 0.8000\n",
      "Epoch: 087, Loss: 0.2805, Train: 0.8867, Test: 0.7500\n",
      "Epoch: 088, Loss: 0.3145, Train: 0.7667, Test: 0.7000\n",
      "Epoch: 089, Loss: 0.2826, Train: 0.7800, Test: 0.8000\n",
      "Epoch: 090, Loss: 0.2745, Train: 0.7867, Test: 0.8000\n",
      "Epoch: 091, Loss: 0.2297, Train: 0.7933, Test: 0.7500\n",
      "Epoch: 092, Loss: 0.2432, Train: 0.8200, Test: 0.8000\n",
      "Epoch: 093, Loss: 0.2390, Train: 0.8333, Test: 0.8000\n",
      "Epoch: 094, Loss: 0.3515, Train: 0.8467, Test: 0.8500\n",
      "Epoch: 095, Loss: 0.2420, Train: 0.8733, Test: 0.8000\n",
      "Epoch: 096, Loss: 0.2335, Train: 0.9067, Test: 0.8000\n",
      "Epoch: 097, Loss: 0.2302, Train: 0.8933, Test: 0.8000\n",
      "Epoch: 098, Loss: 0.3201, Train: 0.9200, Test: 0.7000\n",
      "Epoch: 099, Loss: 0.2199, Train: 0.8467, Test: 0.7000\n",
      "Epoch: 100, Loss: 0.2165, Train: 0.8467, Test: 0.7000\n",
      "Median time per epoch: 0.0485s\n"
     ]
    }
   ],
   "source": [
    "import time\n",
    "times = []\n",
    "for epoch in range(1, 101):\n",
    "    start = time.time()\n",
    "    loss = train()\n",
    "    train_acc = test(train_loader)\n",
    "    test_acc = test(test_loader)\n",
    "    times.append(time.time() - start)\n",
    "    print(f'Epoch: {epoch:03d}, Loss: {loss:.4f}, Train: {train_acc:.4f}, '\n",
    "          f'Test: {test_acc:.4f}')\n",
    "print(f'Median time per epoch: {torch.tensor(times).median():.4f}s')"
   ]
  },
  {
   "cell_type": "code",
   "execution_count": 11,
   "metadata": {},
   "outputs": [
    {
     "name": "stdout",
     "output_type": "stream",
     "text": [
      "df:            n_0       n_1       n_2       n_3       n_4       n_5       n_6  \\\n",
      "0    0.006312  0.009080  0.131551  0.221930  0.029954  0.008005  0.049309   \n",
      "1    0.010790  0.011223  0.344613  0.016498  0.017112  0.250166  0.029354   \n",
      "2    0.007539  0.007539  0.019211  0.602287  0.629883  0.022532  0.714527   \n",
      "3    0.025038  0.042191  0.079523  0.042191  0.025038  0.022035  0.032142   \n",
      "4    0.012508  0.012508  0.164656  0.030409  0.015398  0.030409  0.164656   \n",
      "..        ...       ...       ...       ...       ...       ...       ...   \n",
      "145  0.044126  0.044126  0.059057  0.095693  0.095658  0.059057  0.077236   \n",
      "146  0.044924  0.005886  0.015171  0.062857  0.080046  0.093686  0.079427   \n",
      "147  0.013239  0.059573  0.037917  0.035885  0.016656  0.055115  0.036930   \n",
      "148  0.016871  0.016979  0.196820  0.032629  0.010026  0.007357  0.248187   \n",
      "149  0.016802  0.017200  0.270660  0.032835  0.015159  0.052592  0.763697   \n",
      "\n",
      "          n_7       n_8       n_9  ...      n_19      n_20      n_21  \\\n",
      "0    0.026027  0.026027  0.226198  ...  0.000000  0.000000  0.000000   \n",
      "1    0.011905  0.022286  0.666087  ...  0.019352  0.044462  0.026554   \n",
      "2    0.049041  0.008047  0.005312  ...  0.088247  0.044558  0.044558   \n",
      "3    0.021693  0.037358  0.082524  ...  0.038510  0.038510  0.000000   \n",
      "4    0.631983  0.631983  0.164656  ...  0.048009  0.027140  0.027140   \n",
      "..        ...       ...       ...  ...       ...       ...       ...   \n",
      "145  0.095222  0.068110  0.068089  ...  0.000000  0.000000  0.000000   \n",
      "146  0.038910  0.038910  0.089545  ...  0.000000  0.000000  0.000000   \n",
      "147  0.034551  0.047348  0.061845  ...  0.000000  0.000000  0.000000   \n",
      "148  0.731244  0.728131  0.249751  ...  0.026624  0.000000  0.000000   \n",
      "149  1.033755  1.022148  0.317792  ...  0.011364  0.047815  0.026027   \n",
      "\n",
      "         n_22      n_23      n_24      n_25     n_26     n_27  y  \n",
      "0    0.000000  0.000000  0.000000  0.000000  0.00000  0.00000  1  \n",
      "1    0.026554  0.048009  0.027140  0.027140  0.00000  0.00000  1  \n",
      "2    0.000000  0.000000  0.000000  0.000000  0.00000  0.00000  1  \n",
      "3    0.000000  0.000000  0.000000  0.000000  0.00000  0.00000  1  \n",
      "4    0.048009  0.027140  0.027140  0.048009  0.02714  0.02714  1  \n",
      "..        ...       ...       ...       ...      ...      ... ..  \n",
      "145  0.000000  0.000000  0.000000  0.000000  0.00000  0.00000  1  \n",
      "146  0.000000  0.000000  0.000000  0.000000  0.00000  0.00000  0  \n",
      "147  0.000000  0.000000  0.000000  0.000000  0.00000  0.00000  0  \n",
      "148  0.000000  0.000000  0.000000  0.000000  0.00000  0.00000  1  \n",
      "149  0.026027  0.050651  0.026624  0.026624  0.00000  0.00000  1  \n",
      "\n",
      "[150 rows x 29 columns]\n"
     ]
    }
   ],
   "source": [
    "model.eval()\n",
    "\n",
    "# blackbox\n",
    "df = get_mean_node_embeddings_df(model,  device, train_loader)\n",
    "print('df: ', df)"
   ]
  },
  {
   "cell_type": "code",
   "execution_count": 12,
   "metadata": {},
   "outputs": [],
   "source": [
    "torch.save(model.state_dict(), '../model/model_mutag.pth')"
   ]
  },
  {
   "cell_type": "code",
   "execution_count": 18,
   "metadata": {},
   "outputs": [
    {
     "name": "stdout",
     "output_type": "stream",
     "text": [
      "tensor([[1., 0., 0., 0.],\n",
      "        [1., 0., 0., 0.],\n",
      "        [1., 0., 0., 0.],\n",
      "        [1., 0., 0., 0.],\n",
      "        [1., 0., 0., 0.],\n",
      "        [1., 0., 0., 0.],\n",
      "        [1., 0., 0., 0.],\n",
      "        [1., 0., 0., 0.],\n",
      "        [1., 0., 0., 0.],\n",
      "        [1., 0., 0., 0.],\n",
      "        [1., 0., 0., 0.],\n",
      "        [1., 0., 0., 0.],\n",
      "        [1., 0., 0., 0.],\n",
      "        [1., 0., 0., 0.],\n",
      "        [1., 0., 0., 0.],\n",
      "        [1., 0., 0., 0.],\n",
      "        [1., 0., 0., 0.],\n",
      "        [1., 0., 0., 0.],\n",
      "        [1., 0., 0., 0.],\n",
      "        [1., 0., 0., 0.],\n",
      "        [1., 0., 0., 0.],\n",
      "        [1., 0., 0., 0.],\n",
      "        [1., 0., 0., 0.],\n",
      "        [1., 0., 0., 0.],\n",
      "        [1., 0., 0., 0.],\n",
      "        [1., 0., 0., 0.],\n",
      "        [1., 0., 0., 0.],\n",
      "        [1., 0., 0., 0.],\n",
      "        [1., 0., 0., 0.],\n",
      "        [1., 0., 0., 0.],\n",
      "        [0., 1., 0., 0.],\n",
      "        [1., 0., 0., 0.],\n",
      "        [1., 0., 0., 0.],\n",
      "        [0., 1., 0., 0.],\n",
      "        [0., 0., 1., 0.],\n",
      "        [0., 1., 0., 0.],\n",
      "        [0., 0., 1., 0.],\n",
      "        [0., 1., 0., 0.]])\n"
     ]
    }
   ],
   "source": [
    "import torch\n",
    "from torch_geometric.data import Data\n",
    "\n",
    "from torch_geometric.data import Batch\n",
    "\n",
    "@torch.no_grad()\n",
    "def predict_single_graph(model, graph, device):\n",
    "    model.eval()\n",
    "    \n",
    "    # Tạo batch giả (dù chỉ có 1 graph)\n",
    "    graph.batch = torch.zeros(graph.x.size(0), dtype=torch.long)  # Tất cả node thuộc batch 0\n",
    "    batch = Batch.from_data_list([graph]).to(device)\n",
    "\n",
    "    # Forward qua mô hình\n",
    "    out = model(batch.x, batch.edge_index, batch.batch, batch_size=1)\n",
    "    \n",
    "    # Lấy nhãn dự đoán\n",
    "    predicted_label = out.argmax(dim=-1).item()\n",
    "    \n",
    "    return predicted_label\n",
    "\n",
    "def generate_modified_graphs(graph, model, device, num_graphs=50):\n",
    "    modified_graphs = []\n",
    "    num_nodes = graph.x.size(0)\n",
    "\n",
    "    for _ in range(num_graphs):\n",
    "        edge_index = graph.edge_index.clone()\n",
    "        edges = edge_index.t().tolist()\n",
    "\n",
    "        mode = \"add\" if torch.rand(1).item() > 0.5 else \"remove\"\n",
    "\n",
    "        if mode == \"remove\" and len(edges) > 0:\n",
    "            remove_idx = torch.randint(0, len(edges), (1,)).item()\n",
    "            edges.pop(remove_idx)\n",
    "\n",
    "        elif mode == \"add\":\n",
    "            while True:\n",
    "                u, v = torch.randint(0, num_nodes, (2,)).tolist()\n",
    "                if u != v and [u, v] not in edges and [v, u] not in edges:\n",
    "                    edges.append([u, v])\n",
    "                    break\n",
    "\n",
    "        new_edge_index = torch.tensor(edges, dtype=torch.long).t()\n",
    "\n",
    "        # Dự đoán nhãn mới cho đồ thị đã sửa đổi\n",
    "        new_graph = Data(x=graph.x, edge_index=new_edge_index)\n",
    "        new_graph.y = torch.tensor([predict_single_graph(model, new_graph, device)], dtype=torch.long)\n",
    "\n",
    "        modified_graphs.append(new_graph)\n",
    "\n",
    "    return modified_graphs\n",
    "print(data.edge_attr)\n",
    "# Ví dụ sử dụng\n",
    "x = data.x\n",
    "edge_index = data.edge_index\n",
    "y = data.y\n",
    "\n",
    "graph = Data(x=x, edge_index=edge_index, y=y)\n",
    "modified_graphs = generate_modified_graphs(graph, model, device, num_graphs=100)\n"
   ]
  },
  {
   "cell_type": "code",
   "execution_count": 15,
   "metadata": {},
   "outputs": [
    {
     "name": "stdout",
     "output_type": "stream",
     "text": [
      "Số lượng đồ thị có nhãn 0: 20\n",
      "Số lượng đồ thị có nhãn 1: 80\n"
     ]
    }
   ],
   "source": [
    "y_0 = 0\n",
    "y_1 = 0\n",
    "for graph in modified_graphs:\n",
    "    y_0 += (graph.y == 0).item()\n",
    "    y_1 += (graph.y == 1).item()\n",
    "    \n",
    "print(f\"Số lượng đồ thị có nhãn 0: {y_0}\")\n",
    "print(f\"Số lượng đồ thị có nhãn 1: {y_1}\")"
   ]
  },
  {
   "cell_type": "code",
   "execution_count": 46,
   "metadata": {},
   "outputs": [
    {
     "name": "stdout",
     "output_type": "stream",
     "text": [
      "['blue', 'blue', 'green', 'blue', 'green', 'blue', 'blue', 'blue', 'red', 'red', 'red', 'red', 'red', 'red', 'red', 'red', 'blue', 'red', 'red', 'blue', 'red', 'red', 'blue', 'blue', 'blue', 'red', 'red', 'blue', 'red', 'red', 'red', 'red', 'red', 'red', 'red', 'red', 'blue', 'red', 'red', 'blue', 'green', 'blue', 'green', 'blue']\n"
     ]
    },
    {
     "data": {
      "image/png": "[encoded data removed]",
      "text/plain": [
       "<Figure size 600x400 with 1 Axes>"
      ]
     },
     "metadata": {},
     "output_type": "display_data"
    }
   ],
   "source": [
    "data = dataset[7]\n",
    "G = to_networkx(data, edge_attrs=['edge_attr'], to_undirected=True)\n",
    "\n",
    "edge_attrs = data.edge_attr.argmax(dim=1).tolist() \n",
    "\n",
    "# Loai lien kết: 0: aromatic, 1: single, 2: double, 3: triple\n",
    "edge_color_list = ['red', 'blue', 'green', 'grey']  \n",
    "edge_colors = [edge_color_list[attr] for attr in edge_attrs]\n",
    "print(edge_colors)\n",
    "\n",
    "plt.figure(figsize=(6, 4))\n",
    "pos = nx.spring_layout(G, seed=42) \n",
    "nx.draw(G, pos, with_labels=True, node_color='lightblue', edge_color=edge_colors, width=2)\n",
    "\n",
    "plt.show()"
   ]
  },
  {
   "cell_type": "code",
   "execution_count": null,
   "metadata": {},
   "outputs": [
    {
     "name": "stdout",
     "output_type": "stream",
     "text": [
      "  node_0 node_1 node_2 node_3 node_4 node_5 node_6 node_7 node_8 node_9  ...  \\\n",
      "0      C      C      C      C      C      C      C      C      C      C  ...   \n",
      "1      C      C      C      C      C      C      C      C      C      C  ...   \n",
      "2      C      C      C      C      C      C      C      C      C      C  ...   \n",
      "3      C      C      O      O      C      C      C      C      C      C  ...   \n",
      "4      C      C      O      C      C      C      C      C      C      N  ...   \n",
      "\n",
      "  node_16 node_17 node_18 node_19 node_20 node_21 node_22 node_23 node_24  y  \n",
      "0       N       O       O       N       O       O       N       O       O  1  \n",
      "1       N       O       O       N       O       O    None    None    None  1  \n",
      "2       N       O       O    None    None    None    None    None    None  1  \n",
      "3       C       N       O       O    None    None    None    None    None  1  \n",
      "4    None    None    None    None    None    None    None    None    None  0  \n",
      "\n",
      "[5 rows x 26 columns]\n"
     ]
    }
   ],
   "source": [
    "import pandas as pd\n",
    "import torch\n",
    "\n",
    "\n",
    "@torch.no_grad()\n",
    "def get_graph_features_df(device, loader):\n",
    "    atom_types = [\"C\", \"N\", \"O\", \"F\", \"I\", \"Cl\", \"Br\"]\n",
    "    all_graphs = []  \n",
    "    labels = []\n",
    "\n",
    "    for data in loader:\n",
    "        data = data.to(device)\n",
    "\n",
    "        num_graphs = data.batch_size\n",
    "        for i in range(num_graphs):\n",
    "            mask = (data.batch == i)  \n",
    "\n",
    "            node_labels = [atom_types[x.argmax().item()] for x in data.x[mask]]\n",
    "\n",
    "            all_graphs.append(node_labels)\n",
    "            labels.append(data.y[i].item())\n",
    "\n",
    "    max_nodes = max(len(graph) for graph in all_graphs)\n",
    "    padded_graphs = [graph + [\"None\"] * (max_nodes - len(graph)) for graph in all_graphs]\n",
    "\n",
    "    columns = [f'node_{i}' for i in range(max_nodes)]\n",
    "\n",
    "    df = pd.DataFrame(padded_graphs, columns=columns)\n",
    "    df['y'] = labels\n",
    "\n",
    "    return df\n",
    "df = get_graph_features_df(device, test_loader)\n",
    "print(df.head())\n"
   ]
  }
 ],
 "metadata": {
  "kernelspec": {
   "display_name": ".env",
   "language": "python",
   "name": "python3"
  },
  "language_info": {
   "codemirror_mode": {
    "name": "ipython",
    "version": 3
   },
   "file_extension": ".py",
   "mimetype": "text/x-python",
   "name": "python",
   "nbconvert_exporter": "python",
   "pygments_lexer": "ipython3",
   "version": "3.12.4"
  }
 },
 "nbformat": 4,
 "nbformat_minor": 2
}
