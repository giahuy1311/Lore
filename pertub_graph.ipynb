{
 "cells": [
  {
   "cell_type": "code",
   "execution_count": 13,
   "metadata": {},
   "outputs": [],
   "source": [
    "from torch_geometric.datasets import BA2MotifDataset\n",
    "import networkx as nx\n",
    "import matplotlib.pyplot as plt\n",
    "from torch_geometric.utils import to_networkx"
   ]
  },
  {
   "cell_type": "code",
   "execution_count": 2,
   "metadata": {},
   "outputs": [],
   "source": [
    "dataset = BA2MotifDataset(root='data/BA2Motif')\n",
    "dataset = dataset.shuffle()"
   ]
  },
  {
   "cell_type": "code",
   "execution_count": 3,
   "metadata": {},
   "outputs": [],
   "source": [
    "data = dataset[9]"
   ]
  },
  {
   "cell_type": "code",
   "execution_count": 4,
   "metadata": {},
   "outputs": [
    {
     "name": "stdout",
     "output_type": "stream",
     "text": [
      "tensor([[0.1000, 0.1000, 0.1000, 0.1000, 0.1000, 0.1000, 0.1000, 0.1000, 0.1000,\n",
      "         0.1000],\n",
      "        [0.1000, 0.1000, 0.1000, 0.1000, 0.1000, 0.1000, 0.1000, 0.1000, 0.1000,\n",
      "         0.1000],\n",
      "        [0.1000, 0.1000, 0.1000, 0.1000, 0.1000, 0.1000, 0.1000, 0.1000, 0.1000,\n",
      "         0.1000],\n",
      "        [0.1000, 0.1000, 0.1000, 0.1000, 0.1000, 0.1000, 0.1000, 0.1000, 0.1000,\n",
      "         0.1000],\n",
      "        [0.1000, 0.1000, 0.1000, 0.1000, 0.1000, 0.1000, 0.1000, 0.1000, 0.1000,\n",
      "         0.1000],\n",
      "        [0.1000, 0.1000, 0.1000, 0.1000, 0.1000, 0.1000, 0.1000, 0.1000, 0.1000,\n",
      "         0.1000],\n",
      "        [0.1000, 0.1000, 0.1000, 0.1000, 0.1000, 0.1000, 0.1000, 0.1000, 0.1000,\n",
      "         0.1000],\n",
      "        [0.1000, 0.1000, 0.1000, 0.1000, 0.1000, 0.1000, 0.1000, 0.1000, 0.1000,\n",
      "         0.1000],\n",
      "        [0.1000, 0.1000, 0.1000, 0.1000, 0.1000, 0.1000, 0.1000, 0.1000, 0.1000,\n",
      "         0.1000],\n",
      "        [0.1000, 0.1000, 0.1000, 0.1000, 0.1000, 0.1000, 0.1000, 0.1000, 0.1000,\n",
      "         0.1000],\n",
      "        [0.1000, 0.1000, 0.1000, 0.1000, 0.1000, 0.1000, 0.1000, 0.1000, 0.1000,\n",
      "         0.1000],\n",
      "        [0.1000, 0.1000, 0.1000, 0.1000, 0.1000, 0.1000, 0.1000, 0.1000, 0.1000,\n",
      "         0.1000],\n",
      "        [0.1000, 0.1000, 0.1000, 0.1000, 0.1000, 0.1000, 0.1000, 0.1000, 0.1000,\n",
      "         0.1000],\n",
      "        [0.1000, 0.1000, 0.1000, 0.1000, 0.1000, 0.1000, 0.1000, 0.1000, 0.1000,\n",
      "         0.1000],\n",
      "        [0.1000, 0.1000, 0.1000, 0.1000, 0.1000, 0.1000, 0.1000, 0.1000, 0.1000,\n",
      "         0.1000],\n",
      "        [0.1000, 0.1000, 0.1000, 0.1000, 0.1000, 0.1000, 0.1000, 0.1000, 0.1000,\n",
      "         0.1000],\n",
      "        [0.1000, 0.1000, 0.1000, 0.1000, 0.1000, 0.1000, 0.1000, 0.1000, 0.1000,\n",
      "         0.1000],\n",
      "        [0.1000, 0.1000, 0.1000, 0.1000, 0.1000, 0.1000, 0.1000, 0.1000, 0.1000,\n",
      "         0.1000],\n",
      "        [0.1000, 0.1000, 0.1000, 0.1000, 0.1000, 0.1000, 0.1000, 0.1000, 0.1000,\n",
      "         0.1000],\n",
      "        [0.1000, 0.1000, 0.1000, 0.1000, 0.1000, 0.1000, 0.1000, 0.1000, 0.1000,\n",
      "         0.1000],\n",
      "        [0.1000, 0.1000, 0.1000, 0.1000, 0.1000, 0.1000, 0.1000, 0.1000, 0.1000,\n",
      "         0.1000],\n",
      "        [0.1000, 0.1000, 0.1000, 0.1000, 0.1000, 0.1000, 0.1000, 0.1000, 0.1000,\n",
      "         0.1000],\n",
      "        [0.1000, 0.1000, 0.1000, 0.1000, 0.1000, 0.1000, 0.1000, 0.1000, 0.1000,\n",
      "         0.1000],\n",
      "        [0.1000, 0.1000, 0.1000, 0.1000, 0.1000, 0.1000, 0.1000, 0.1000, 0.1000,\n",
      "         0.1000],\n",
      "        [0.1000, 0.1000, 0.1000, 0.1000, 0.1000, 0.1000, 0.1000, 0.1000, 0.1000,\n",
      "         0.1000]])\n"
     ]
    }
   ],
   "source": [
    "print(data.x )"
   ]
  },
  {
   "cell_type": "code",
   "execution_count": 5,
   "metadata": {},
   "outputs": [
    {
     "name": "stderr",
     "output_type": "stream",
     "text": [
      "/Users/admin/Documents/Screenshots/LORE/.env/lib/python3.12/site-packages/networkx/drawing/nx_pylab.py:457: UserWarning: No data for colormapping provided via 'c'. Parameters 'cmap' will be ignored\n",
      "  node_collection = ax.scatter(\n"
     ]
    },
    {
     "data": {
      "image/png": "[encoded data removed]",
      "text/plain": [
       "<Figure size 300x300 with 1 Axes>"
      ]
     },
     "metadata": {},
     "output_type": "display_data"
    }
   ],
   "source": [
    "G = to_networkx(data, to_undirected=True)\n",
    "\n",
    "plt.figure(figsize=(3, 3))\n",
    "nx.draw(G, with_labels=True, cmap=\"coolwarm\", node_size=200)\n",
    "plt.show()"
   ]
  },
  {
   "cell_type": "code",
   "execution_count": 6,
   "metadata": {},
   "outputs": [],
   "source": [
    "import torch\n",
    "import pandas as pd\n",
    "import numpy as np\n",
    "\n",
    "@torch.no_grad()\n",
    "def create_adjacency_matrix(edge_index, num_nodes):\n",
    "    adj_matrix = np.zeros((num_nodes, num_nodes), dtype=int) \n",
    "    edges = edge_index.cpu().numpy().T \n",
    "    \n",
    "    for src, dst in edges:\n",
    "        adj_matrix[src, dst] = 1  \n",
    "        adj_matrix[dst, src] = 1  \n",
    "    \n",
    "    return adj_matrix"
   ]
  },
  {
   "cell_type": "code",
   "execution_count": 8,
   "metadata": {},
   "outputs": [],
   "source": [
    "# import networkx as nx\n",
    "# import matplotlib.pyplot as plt\n",
    "\n",
    "# graph_idx = 0  # Chọn đồ thị đầu tiên\n",
    "# graph_row = df.iloc[graph_idx]\n",
    "\n",
    "# # Lấy các cột cạnh\n",
    "# edge_columns = [col for col in df.columns if col.startswith('n')]\n",
    "# edges = [(int(col.split('_')[0][1:]), int(col.split('_')[1][1:])) for col in edge_columns if graph_row[col] == 1]\n",
    "\n",
    "# # Tạo đồ thị với NetworkX\n",
    "# G = nx.Graph()\n",
    "# G.add_edges_from(edges)\n",
    "\n",
    "# # Vẽ đồ thị\n",
    "# plt.figure(figsize=(6, 6))\n",
    "# nx.draw(G, with_labels=True, node_color='lightblue', edge_color='gray', node_size=500, font_size=10)\n",
    "# plt.show()\n"
   ]
  },
  {
   "cell_type": "code",
   "execution_count": 9,
   "metadata": {},
   "outputs": [],
   "source": [
    "adj_matrix = create_adjacency_matrix(data.edge_index, data.num_nodes)\n",
    "edge_index = data.edge_index.cpu().numpy().T\n",
    "node_features = data.x.cpu().numpy()"
   ]
  },
  {
   "cell_type": "code",
   "execution_count": null,
   "metadata": {},
   "outputs": [
    {
     "name": "stdout",
     "output_type": "stream",
     "text": [
      "Generation 0: Best Fitness = 0.7314\n",
      "Generation 10: Best Fitness = 0.7299\n",
      "Generation 20: Best Fitness = 0.7299\n",
      "Generation 30: Best Fitness = 0.7332\n",
      "Generation 40: Best Fitness = 0.7299\n",
      "Generation 50: Best Fitness = 0.7316\n",
      "Generation 60: Best Fitness = 0.7332\n",
      "Generation 70: Best Fitness = 0.7300\n",
      "Generation 80: Best Fitness = 0.7316\n",
      "Generation 90: Best Fitness = 0.7299\n",
      "[0, 1, 2, 3, 4, 5, 6, 7, 8, 10, 11, 13, 15, 16, 17, 18, 19, 20, 21, 23, 24]\n",
      "[0, 1, 2, 4, 5, 6, 7, 8, 9, 10, 11, 12, 13, 15, 16, 17, 18, 19, 20, 21, 23, 24]\n",
      "[0, 1, 2, 3, 4, 5, 6, 7, 8, 9, 10, 11, 12, 13, 15, 16, 17, 18, 19, 20, 21, 24]\n",
      "[0, 1, 2, 3, 4, 5, 6, 7, 8, 11, 12, 13, 14, 15, 16, 17, 18, 19, 20, 21, 22, 24]\n",
      "[0, 1, 2, 3, 4, 5, 6, 7, 8, 9, 10, 11, 12, 13, 15, 17, 18, 19, 20, 21, 22, 23, 24]\n",
      "[0, 1, 2, 3, 4, 5, 6, 7, 8, 9, 10, 11, 12, 13, 14, 15, 17, 18, 19, 20, 21, 23, 24]\n",
      "[0, 1, 2, 3, 4, 5, 6, 7, 8, 10, 11, 12, 13, 14, 15, 16, 17, 18, 19, 20, 21, 23, 24]\n",
      "[0, 1, 2, 4, 5, 6, 7, 8, 9, 10, 11, 12, 13, 14, 15, 16, 17, 18, 19, 20, 21, 22, 23, 24]\n",
      "[0, 1, 2, 3, 5, 6, 7, 8, 9, 10, 11, 12, 13, 14, 15, 16, 17, 18, 19, 20, 21, 22, 23, 24]\n",
      "[0, 1, 2, 3, 4, 5, 6, 7, 8, 9, 10, 11, 12, 13, 14, 15, 16, 17, 19, 20, 21, 22, 23, 24]\n"
     ]
    },
    {
     "name": "stderr",
     "output_type": "stream",
     "text": [
      "/Users/admin/Documents/Screenshots/LORE/genetic.py:191: UserWarning: Creating a tensor from a list of numpy.ndarrays is extremely slow. Please consider converting the list to a single numpy.ndarray with numpy.array() before converting to a tensor. (Triggered internally at /Users/runner/work/pytorch/pytorch/pytorch/torch/csrc/utils/tensor_new.cpp:257.)\n",
      "  x = torch.tensor([node_features[n] for n in nodes], dtype=torch.float)\n"
     ]
    }
   ],
   "source": [
    "from genetic import genetic_graph_sampler\n",
    "\n",
    "sampler = genetic_graph_sampler(adj_matrix, edge_index, node_features)"
   ]
  },
  {
   "cell_type": "code",
   "execution_count": 28,
   "metadata": {},
   "outputs": [],
   "source": [
    "graph = sampler[9]"
   ]
  },
  {
   "cell_type": "code",
   "execution_count": 29,
   "metadata": {},
   "outputs": [
    {
     "data": {
      "image/png": "[encoded data removed]",
      "text/plain": [
       "<Figure size 600x600 with 2 Axes>"
      ]
     },
     "metadata": {},
     "output_type": "display_data"
    }
   ],
   "source": [
    "G = to_networkx(graph, to_undirected=True)\n",
    "original_G = to_networkx(data, to_undirected=True)\n",
    "\n",
    "plt.figure(figsize=(6, 6))\n",
    "plt.subplot(121)\n",
    "nx.draw(original_G, with_labels=True, cmap=\"coolwarm\", node_size=200)\n",
    "plt.title('Original Graph')\n",
    "plt.subplot(122)\n",
    "nx.draw(G, with_labels=True, cmap=\"coolwarm\", node_size=200)\n",
    "plt.title('Sampled Graph')\n",
    "plt.show()\n"
   ]
  },
  {
   "cell_type": "code",
   "execution_count": 13,
   "metadata": {},
   "outputs": [
    {
     "data": {
      "text/plain": [
       "GIN(\n",
       "  (convs): ModuleList(\n",
       "    (0): GINConv(nn=MLP(10, 32, 32))\n",
       "    (1-4): 4 x GINConv(nn=MLP(32, 32, 32))\n",
       "  )\n",
       "  (mlp): MLP(32, 32, 2)\n",
       ")"
      ]
     },
     "execution_count": 13,
     "metadata": {},
     "output_type": "execute_result"
    }
   ],
   "source": [
    "from model.gin import GIN\n",
    "device = torch.device('cuda' if torch.cuda.is_available() else 'cpu')\n",
    "    \n",
    "model = GIN(\n",
    "    in_channels=dataset.num_features,\n",
    "    hidden_channels=32,\n",
    "    out_channels=dataset.num_classes,\n",
    "    num_layers=5,\n",
    ").to(device)\n",
    "model.load_state_dict(torch.load('model/model.pth'))\n",
    "model.eval()"
   ]
  },
  {
   "cell_type": "code",
   "execution_count": 14,
   "metadata": {},
   "outputs": [],
   "source": [
    "from torch_geometric.data import Batch\n",
    "@torch.no_grad()\n",
    "def predict_single_graph(model, graph, device):\n",
    "    model.eval()\n",
    "    \n",
    "    # Tạo batch giả (dù chỉ có 1 graph)\n",
    "    graph.batch = torch.zeros(graph.x.size(0), dtype=torch.long)  # Tất cả node thuộc batch 0\n",
    "    batch = Batch.from_data_list([graph]).to(device)\n",
    "\n",
    "    # Forward qua mô hình\n",
    "    out = model(batch.x, batch.edge_index, batch.batch, batch_size=1)\n",
    "    \n",
    "    # Lấy nhãn dự đoán\n",
    "    predicted_label = out.argmax(dim=-1).item()\n",
    "    \n",
    "    return predicted_label"
   ]
  },
  {
   "cell_type": "code",
   "execution_count": 19,
   "metadata": {},
   "outputs": [
    {
     "name": "stdout",
     "output_type": "stream",
     "text": [
      "Predicted label: 0\n",
      "Predicted label: 0\n",
      "Predicted label: 0\n",
      "Predicted label: 0\n",
      "Predicted label: 1\n",
      "Predicted label: 0\n",
      "Predicted label: 0\n",
      "Predicted label: 1\n",
      "Predicted label: 1\n",
      "Predicted label: 1\n"
     ]
    }
   ],
   "source": [
    "for graph in sampler:\n",
    "    predicted_label = predict_single_graph(model, graph, device)\n",
    "    print(f'Predicted label: {predicted_label}')"
   ]
  },
  {
   "cell_type": "code",
   "execution_count": 31,
   "metadata": {},
   "outputs": [
    {
     "name": "stderr",
     "output_type": "stream",
     "text": [
      "/Users/admin/Documents/Screenshots/LORE/.env/lib/python3.12/site-packages/torch_geometric/deprecation.py:26: UserWarning: 'data.DataLoader' is deprecated, use 'loader.DataLoader' instead\n",
      "  warnings.warn(out)\n"
     ]
    },
    {
     "data": {
      "text/html": [
       "<div>\n",
       "<style scoped>\n",
       "    .dataframe tbody tr th:only-of-type {\n",
       "        vertical-align: middle;\n",
       "    }\n",
       "\n",
       "    .dataframe tbody tr th {\n",
       "        vertical-align: top;\n",
       "    }\n",
       "\n",
       "    .dataframe thead th {\n",
       "        text-align: right;\n",
       "    }\n",
       "</style>\n",
       "<table border=\"1\" class=\"dataframe\">\n",
       "  <thead>\n",
       "    <tr style=\"text-align: right;\">\n",
       "      <th></th>\n",
       "      <th>nE_1</th>\n",
       "      <th>nE_2</th>\n",
       "      <th>nE_3</th>\n",
       "      <th>nE_4</th>\n",
       "      <th>nE_5</th>\n",
       "      <th>nE_6</th>\n",
       "      <th>nE_7</th>\n",
       "      <th>nE_8</th>\n",
       "      <th>nE_9</th>\n",
       "      <th>nE_10</th>\n",
       "      <th>...</th>\n",
       "      <th>n21_n22</th>\n",
       "      <th>n21_n23</th>\n",
       "      <th>n21_n24</th>\n",
       "      <th>n22_n22</th>\n",
       "      <th>n22_n23</th>\n",
       "      <th>n22_n24</th>\n",
       "      <th>n23_n23</th>\n",
       "      <th>n23_n24</th>\n",
       "      <th>n24_n24</th>\n",
       "      <th>y</th>\n",
       "    </tr>\n",
       "  </thead>\n",
       "  <tbody>\n",
       "    <tr>\n",
       "      <th>0</th>\n",
       "      <td>0.000000</td>\n",
       "      <td>0.007290</td>\n",
       "      <td>0.024292</td>\n",
       "      <td>0.006632</td>\n",
       "      <td>0.006632</td>\n",
       "      <td>0.007290</td>\n",
       "      <td>0.008009</td>\n",
       "      <td>0.024292</td>\n",
       "      <td>0.006632</td>\n",
       "      <td>0.006632</td>\n",
       "      <td>...</td>\n",
       "      <td>1</td>\n",
       "      <td>0</td>\n",
       "      <td>1</td>\n",
       "      <td>0</td>\n",
       "      <td>1</td>\n",
       "      <td>0</td>\n",
       "      <td>0</td>\n",
       "      <td>0</td>\n",
       "      <td>0</td>\n",
       "      <td>1</td>\n",
       "    </tr>\n",
       "    <tr>\n",
       "      <th>1</th>\n",
       "      <td>0.015210</td>\n",
       "      <td>0.007753</td>\n",
       "      <td>0.007464</td>\n",
       "      <td>0.018019</td>\n",
       "      <td>0.109220</td>\n",
       "      <td>0.018019</td>\n",
       "      <td>0.027515</td>\n",
       "      <td>0.013557</td>\n",
       "      <td>0.014856</td>\n",
       "      <td>0.216001</td>\n",
       "      <td>...</td>\n",
       "      <td>1</td>\n",
       "      <td>0</td>\n",
       "      <td>0</td>\n",
       "      <td>0</td>\n",
       "      <td>1</td>\n",
       "      <td>0</td>\n",
       "      <td>0</td>\n",
       "      <td>1</td>\n",
       "      <td>0</td>\n",
       "      <td>0</td>\n",
       "    </tr>\n",
       "    <tr>\n",
       "      <th>2</th>\n",
       "      <td>0.008099</td>\n",
       "      <td>0.016002</td>\n",
       "      <td>0.007217</td>\n",
       "      <td>0.015137</td>\n",
       "      <td>0.013537</td>\n",
       "      <td>0.016002</td>\n",
       "      <td>0.017527</td>\n",
       "      <td>0.033101</td>\n",
       "      <td>0.016002</td>\n",
       "      <td>0.025818</td>\n",
       "      <td>...</td>\n",
       "      <td>1</td>\n",
       "      <td>0</td>\n",
       "      <td>0</td>\n",
       "      <td>0</td>\n",
       "      <td>1</td>\n",
       "      <td>0</td>\n",
       "      <td>0</td>\n",
       "      <td>1</td>\n",
       "      <td>0</td>\n",
       "      <td>0</td>\n",
       "    </tr>\n",
       "    <tr>\n",
       "      <th>3</th>\n",
       "      <td>0.010251</td>\n",
       "      <td>0.021832</td>\n",
       "      <td>0.070052</td>\n",
       "      <td>0.035720</td>\n",
       "      <td>0.057241</td>\n",
       "      <td>0.025610</td>\n",
       "      <td>0.026829</td>\n",
       "      <td>0.029337</td>\n",
       "      <td>0.025610</td>\n",
       "      <td>0.025610</td>\n",
       "      <td>...</td>\n",
       "      <td>1</td>\n",
       "      <td>0</td>\n",
       "      <td>0</td>\n",
       "      <td>0</td>\n",
       "      <td>1</td>\n",
       "      <td>0</td>\n",
       "      <td>0</td>\n",
       "      <td>1</td>\n",
       "      <td>0</td>\n",
       "      <td>0</td>\n",
       "    </tr>\n",
       "    <tr>\n",
       "      <th>4</th>\n",
       "      <td>0.001653</td>\n",
       "      <td>0.000000</td>\n",
       "      <td>0.007479</td>\n",
       "      <td>0.008140</td>\n",
       "      <td>0.023085</td>\n",
       "      <td>0.006801</td>\n",
       "      <td>0.006801</td>\n",
       "      <td>0.006801</td>\n",
       "      <td>0.007479</td>\n",
       "      <td>0.006801</td>\n",
       "      <td>...</td>\n",
       "      <td>1</td>\n",
       "      <td>0</td>\n",
       "      <td>0</td>\n",
       "      <td>0</td>\n",
       "      <td>1</td>\n",
       "      <td>0</td>\n",
       "      <td>0</td>\n",
       "      <td>1</td>\n",
       "      <td>0</td>\n",
       "      <td>0</td>\n",
       "    </tr>\n",
       "  </tbody>\n",
       "</table>\n",
       "<p>5 rows × 351 columns</p>\n",
       "</div>"
      ],
      "text/plain": [
       "       nE_1      nE_2      nE_3      nE_4      nE_5      nE_6      nE_7  \\\n",
       "0  0.000000  0.007290  0.024292  0.006632  0.006632  0.007290  0.008009   \n",
       "1  0.015210  0.007753  0.007464  0.018019  0.109220  0.018019  0.027515   \n",
       "2  0.008099  0.016002  0.007217  0.015137  0.013537  0.016002  0.017527   \n",
       "3  0.010251  0.021832  0.070052  0.035720  0.057241  0.025610  0.026829   \n",
       "4  0.001653  0.000000  0.007479  0.008140  0.023085  0.006801  0.006801   \n",
       "\n",
       "       nE_8      nE_9     nE_10  ...  n21_n22  n21_n23  n21_n24  n22_n22  \\\n",
       "0  0.024292  0.006632  0.006632  ...        1        0        1        0   \n",
       "1  0.013557  0.014856  0.216001  ...        1        0        0        0   \n",
       "2  0.033101  0.016002  0.025818  ...        1        0        0        0   \n",
       "3  0.029337  0.025610  0.025610  ...        1        0        0        0   \n",
       "4  0.006801  0.007479  0.006801  ...        1        0        0        0   \n",
       "\n",
       "   n22_n23  n22_n24  n23_n23  n23_n24  n24_n24  y  \n",
       "0        1        0        0        0        0  1  \n",
       "1        1        0        0        1        0  0  \n",
       "2        1        0        0        1        0  0  \n",
       "3        1        0        0        1        0  0  \n",
       "4        1        0        0        1        0  0  \n",
       "\n",
       "[5 rows x 351 columns]"
      ]
     },
     "execution_count": 31,
     "metadata": {},
     "output_type": "execute_result"
    }
   ],
   "source": [
    "from torch_geometric.data import DataLoader\n",
    "\n",
    "import torch\n",
    "import pandas as pd\n",
    "\n",
    "\n",
    "@torch.no_grad()\n",
    "def get_mean_node_embeddings_df(loader):\n",
    "    model.eval()\n",
    "    all_graphs = []  \n",
    "    labels = []\n",
    "    edge_dicts = []\n",
    "\n",
    "    for data in loader:\n",
    "        data = data.to(device)\n",
    "        _, node_embeddings = model(data.x, data.edge_index, data.batch, data.batch_size, return_embeddings=True)\n",
    "\n",
    "        num_graphs = data.batch_size\n",
    "        for i in range(num_graphs):\n",
    "            mask = (data.batch == i)  \n",
    "            node_indices = torch.where(mask)[0].cpu().numpy()\n",
    "            mean_node_embedding = node_embeddings[mask].mean(dim=1).cpu().numpy()\n",
    "\n",
    "            labels.append(data.y[i].item())\n",
    "            all_graphs.append(mean_node_embedding.flatten().tolist())\n",
    "\n",
    "            node_mapping = {old_idx: new_idx for new_idx, old_idx in enumerate(node_indices)}\n",
    "            edges = data.edge_index[:, mask[data.edge_index[0]]].cpu().numpy().T\n",
    "            edges_mapped = [(node_mapping[src], node_mapping[dst]) for src, dst in edges]\n",
    "\n",
    "            # ma trận kề\n",
    "            num_nodes = len(node_indices)\n",
    "            adj_matrix = create_adjacency_matrix(torch.tensor(edges_mapped).T, num_nodes)\n",
    "\n",
    "            # convert ma trận kề thành dict để concat vào DataFrame\n",
    "            edge_dict = {f'n{r}_n{c}': adj_matrix[r, c] for r in range(num_nodes) for c in range(r, num_nodes)}\n",
    "            edge_dicts.append(edge_dict)\n",
    "\n",
    "    max_nodes = max(len(graph) for graph in all_graphs)\n",
    "    embed_columns = [f'nE_{i+1}' for i in range(max_nodes)]\n",
    "    df = pd.DataFrame(all_graphs, columns=embed_columns)\n",
    "\n",
    "    df_edges = pd.DataFrame(edge_dicts).fillna(0).astype(int)  \n",
    "\n",
    "    df = pd.concat([df, df_edges], axis=1)\n",
    "    df['y'] = labels  \n",
    "\n",
    "    return df\n",
    "\n",
    "\n",
    "data_loader = DataLoader(dataset, batch_size=32, shuffle=False)\n",
    "df = get_mean_node_embeddings_df(data_loader)\n",
    "df[:5]"
   ]
  },
  {
   "cell_type": "code",
   "execution_count": null,
   "metadata": {},
   "outputs": [
    {
     "ename": "SystemError",
     "evalue": "\u0002() method: bad call flags",
     "output_type": "error",
     "traceback": [
      "\u001b[0;31m---------------------------------------------------------------------------\u001b[0m",
      "\u001b[0;31mSystemError\u001b[0m                               Traceback (most recent call last)",
      "Cell \u001b[0;32mIn[2], line 2\u001b[0m\n\u001b[1;32m      1\u001b[0m \u001b[38;5;28;01mimport\u001b[39;00m\u001b[38;5;250m \u001b[39m\u001b[38;5;21;01mpickle\u001b[39;00m\n\u001b[0;32m----> 2\u001b[0m \u001b[38;5;28;01mimport\u001b[39;00m\u001b[38;5;250m \u001b[39m\u001b[38;5;21;01mtorch\u001b[39;00m\n\u001b[1;32m      3\u001b[0m \u001b[38;5;28;01mdef\u001b[39;00m\u001b[38;5;250m \u001b[39m\u001b[38;5;21mload_graphs_from_pickle\u001b[39m(filename \u001b[38;5;241m=\u001b[39m \u001b[38;5;124m\"\u001b[39m\u001b[38;5;124mgraph2X.pkl\u001b[39m\u001b[38;5;124m\"\u001b[39m):\n\u001b[1;32m      4\u001b[0m     \u001b[38;5;28;01mwith\u001b[39;00m \u001b[38;5;28mopen\u001b[39m(filename, \u001b[38;5;124m\"\u001b[39m\u001b[38;5;124mrb\u001b[39m\u001b[38;5;124m\"\u001b[39m) \u001b[38;5;28;01mas\u001b[39;00m f:\n",
      "File \u001b[0;32m~/Documents/Screenshots/LORE/.env/lib/python3.12/site-packages/torch/__init__.py:405\u001b[0m\n\u001b[1;32m    403\u001b[0m     \u001b[38;5;28;01mif\u001b[39;00m USE_GLOBAL_DEPS:\n\u001b[1;32m    404\u001b[0m         _load_global_deps()\n\u001b[0;32m--> 405\u001b[0m     \u001b[38;5;28;01mfrom\u001b[39;00m\u001b[38;5;250m \u001b[39m\u001b[38;5;21;01mtorch\u001b[39;00m\u001b[38;5;21;01m.\u001b[39;00m\u001b[38;5;21;01m_C\u001b[39;00m\u001b[38;5;250m \u001b[39m\u001b[38;5;28;01mimport\u001b[39;00m \u001b[38;5;241m*\u001b[39m  \u001b[38;5;66;03m# noqa: F403\u001b[39;00m\n\u001b[1;32m    408\u001b[0m \u001b[38;5;28;01mclass\u001b[39;00m\u001b[38;5;250m \u001b[39m\u001b[38;5;21;01mSymInt\u001b[39;00m:\n\u001b[1;32m    409\u001b[0m \u001b[38;5;250m    \u001b[39m\u001b[38;5;124;03m\"\"\"\u001b[39;00m\n\u001b[1;32m    410\u001b[0m \u001b[38;5;124;03m    Like an int (including magic methods), but redirects all operations on the\u001b[39;00m\n\u001b[1;32m    411\u001b[0m \u001b[38;5;124;03m    wrapped node. This is used in particular to symbolically record operations\u001b[39;00m\n\u001b[1;32m    412\u001b[0m \u001b[38;5;124;03m    in the symbolic shape workflow.\u001b[39;00m\n\u001b[1;32m    413\u001b[0m \u001b[38;5;124;03m    \"\"\"\u001b[39;00m\n",
      "\u001b[0;31mSystemError\u001b[0m: \u0002() method: bad call flags"
     ]
    }
   ],
   "source": [
    "import pickle\n",
    "def load_graphs_from_pickle(filename = \"graph2X.pkl\"):\n",
    "    with open(filename, \"rb\") as f:\n",
    "        return pickle.load(f)\n",
    "\n",
    "loaded_graphs = load_graphs_from_pickle(\"graph2X.pkl\")\n"
   ]
  },
  {
   "cell_type": "code",
   "execution_count": 1,
   "metadata": {},
   "outputs": [
    {
     "ename": "NameError",
     "evalue": "name 'to_networkx' is not defined",
     "output_type": "error",
     "traceback": [
      "\u001b[0;31m---------------------------------------------------------------------------\u001b[0m",
      "\u001b[0;31mNameError\u001b[0m                                 Traceback (most recent call last)",
      "Cell \u001b[0;32mIn[1], line 1\u001b[0m\n\u001b[0;32m----> 1\u001b[0m G \u001b[38;5;241m=\u001b[39m \u001b[43mto_networkx\u001b[49m(loaded_graphs, to_undirected\u001b[38;5;241m=\u001b[39m\u001b[38;5;28;01mTrue\u001b[39;00m)\n\u001b[1;32m      2\u001b[0m plt\u001b[38;5;241m.\u001b[39mfigure(figsize\u001b[38;5;241m=\u001b[39m(\u001b[38;5;241m4\u001b[39m, \u001b[38;5;241m4\u001b[39m))\n\u001b[1;32m      3\u001b[0m nx\u001b[38;5;241m.\u001b[39mdraw(G, with_labels\u001b[38;5;241m=\u001b[39m\u001b[38;5;28;01mTrue\u001b[39;00m, cmap\u001b[38;5;241m=\u001b[39m\u001b[38;5;124m\"\u001b[39m\u001b[38;5;124mcoolwarm\u001b[39m\u001b[38;5;124m\"\u001b[39m, node_size\u001b[38;5;241m=\u001b[39m\u001b[38;5;241m200\u001b[39m)\n",
      "\u001b[0;31mNameError\u001b[0m: name 'to_networkx' is not defined"
     ]
    }
   ],
   "source": [
    "G = to_networkx(loaded_graphs, to_undirected=True)\n",
    "plt.figure(figsize=(4, 4))\n",
    "nx.draw(G, with_labels=True, cmap=\"coolwarm\", node_size=200)\n",
    "plt.show()"
   ]
  },
  {
   "cell_type": "code",
   "execution_count": null,
   "metadata": {},
   "outputs": [],
   "source": [
    "import torch\n",
    "import numpy as np\n",
    "from torch_geometric.data import Data\n",
    "\n",
    "def predict(self, reshaped_x, device, num_nodes):\n",
    "    node_features = torch.tensor(reshaped_x[0, :num_nodes], dtype=torch.float).view(num_nodes, 1) \n",
    "\n",
    "    adj_flatten = reshaped_x[0, num_nodes:]  \n",
    "    adj_matrix = np.zeros((num_nodes, num_nodes)) \n",
    "    triu_indices = np.triu_indices(num_nodes)  \n",
    "    adj_matrix[triu_indices] = adj_flatten \n",
    "\n",
    "    adj_matrix = adj_matrix + adj_matrix.T - np.diag(np.diag(adj_matrix))\n",
    "\n",
    "    edge_index = torch.nonzero(torch.tensor(adj_matrix, dtype=torch.long)).T  \n",
    "    node_features = node_features.repeat(1,32) \n",
    "    print(node_features)\n",
    "    batch = torch.zeros(num_nodes, dtype=torch.long) \n",
    "    \n",
    "    data = Data(x=node_features, edge_index=edge_index, batch=batch)\n",
    "    model = self.to(device)\n",
    "    \n",
    "    with torch.no_grad():\n",
    "        data = data.to(device)\n",
    "        output = model(data.x, data.edge_index, data.batch, batch_size=1)\n",
    "\n",
    "    return output.argmax(dim=-1).cpu().numpy()  "
   ]
  },
  {
   "cell_type": "code",
   "execution_count": 37,
   "metadata": {},
   "outputs": [],
   "source": [
    "index = 4"
   ]
  },
  {
   "cell_type": "code",
   "execution_count": 38,
   "metadata": {},
   "outputs": [
    {
     "data": {
      "image/png": "[encoded data removed]",
      "text/plain": [
       "<Figure size 600x600 with 1 Axes>"
      ]
     },
     "metadata": {},
     "output_type": "display_data"
    }
   ],
   "source": [
    "import pandas as pd\n",
    "import numpy as np\n",
    "import networkx as nx\n",
    "import matplotlib.pyplot as plt\n",
    "\n",
    "\n",
    "file_path = \"experiments/dfZ.csv\"  \n",
    "df = pd.read_csv(file_path)\n",
    "df.drop(columns=['y'], inplace=True)\n",
    "random_row = df.iloc[index]\n",
    "\n",
    "nodes = 25 \n",
    "adj_matrix_flat = random_row[26:].values.astype(float)\n",
    "adj_matrix = np.zeros((nodes, nodes))\n",
    "\n",
    "idx = 0\n",
    "for i in range(nodes):\n",
    "    for j in range(i, nodes):\n",
    "        adj_matrix[i, j] = adj_matrix_flat[idx]\n",
    "        adj_matrix[j, i] = adj_matrix_flat[idx] \n",
    "        idx += 1\n",
    "\n",
    "G = nx.Graph()\n",
    "for i in range(nodes):\n",
    "    for j in range(i + 1, nodes):\n",
    "        if adj_matrix[i, j] > 0: \n",
    "            G.add_edge(i, j)\n",
    "\n",
    "\n",
    "plt.figure(figsize=(6, 6))\n",
    "pos = nx.spring_layout(G) \n",
    "nx.draw(G, pos, with_labels=True, node_color='lightblue', node_size=300)\n",
    "plt.show()\n"
   ]
  }
 ],
 "metadata": {
  "kernelspec": {
   "display_name": ".env",
   "language": "python",
   "name": "python3"
  },
  "language_info": {
   "codemirror_mode": {
    "name": "ipython",
    "version": 3
   },
   "file_extension": ".py",
   "mimetype": "text/x-python",
   "name": "python",
   "nbconvert_exporter": "python",
   "pygments_lexer": "ipython3",
   "version": "3.12.4"
  }
 },
 "nbformat": 4,
 "nbformat_minor": 2
}
